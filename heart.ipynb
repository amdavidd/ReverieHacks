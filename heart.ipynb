{
 "cells": [
  {
   "cell_type": "code",
   "execution_count": null,
   "id": "bb44bef7-c8aa-4fb3-95c2-706dc737e441",
   "metadata": {},
   "outputs": [],
   "source": [
    "import pandas as pd \n",
    "import numpy as np\n",
    "\n",
    "from sfunc import run_forest, one_hot,answer, intensity, quality"
   ]
  },
  {
   "cell_type": "code",
   "execution_count": 2,
   "id": "3a1c38a9-9661-43fe-bf6a-087094d9d173",
   "metadata": {},
   "outputs": [],
   "source": [
    "heart = pd.read_csv('Datasets/heart_disease.csv')"
   ]
  },
  {
   "cell_type": "code",
   "execution_count": 3,
   "id": "67e3cae9-eeff-4413-aea7-e20fab1f0515",
   "metadata": {},
   "outputs": [],
   "source": [
    "pd.set_option('display.max_columns', 100)"
   ]
  },
  {
   "cell_type": "code",
   "execution_count": 4,
   "id": "60f8d96f",
   "metadata": {},
   "outputs": [
    {
     "name": "stdout",
     "output_type": "stream",
     "text": [
      "918\n"
     ]
    }
   ],
   "source": [
    "print(len(heart))"
   ]
  },
  {
   "cell_type": "code",
   "execution_count": 5,
   "id": "7123452d",
   "metadata": {},
   "outputs": [
    {
     "name": "stdout",
     "output_type": "stream",
     "text": [
      "Index(['Age', 'Sex', 'ChestPainType', 'RestingBP', 'Cholesterol', 'FastingBS',\n",
      "       'RestingECG', 'MaxHR', 'ExerciseAngina', 'Oldpeak', 'ST_Slope',\n",
      "       'HeartDisease'],\n",
      "      dtype='object')\n"
     ]
    },
    {
     "data": {
      "text/html": [
       "<div>\n",
       "<style scoped>\n",
       "    .dataframe tbody tr th:only-of-type {\n",
       "        vertical-align: middle;\n",
       "    }\n",
       "\n",
       "    .dataframe tbody tr th {\n",
       "        vertical-align: top;\n",
       "    }\n",
       "\n",
       "    .dataframe thead th {\n",
       "        text-align: right;\n",
       "    }\n",
       "</style>\n",
       "<table border=\"1\" class=\"dataframe\">\n",
       "  <thead>\n",
       "    <tr style=\"text-align: right;\">\n",
       "      <th></th>\n",
       "      <th>Age</th>\n",
       "      <th>Sex</th>\n",
       "      <th>ChestPainType</th>\n",
       "      <th>RestingBP</th>\n",
       "      <th>Cholesterol</th>\n",
       "      <th>FastingBS</th>\n",
       "      <th>RestingECG</th>\n",
       "      <th>MaxHR</th>\n",
       "      <th>ExerciseAngina</th>\n",
       "      <th>Oldpeak</th>\n",
       "      <th>ST_Slope</th>\n",
       "      <th>HeartDisease</th>\n",
       "    </tr>\n",
       "  </thead>\n",
       "  <tbody>\n",
       "    <tr>\n",
       "      <th>0</th>\n",
       "      <td>40</td>\n",
       "      <td>M</td>\n",
       "      <td>ATA</td>\n",
       "      <td>140</td>\n",
       "      <td>289</td>\n",
       "      <td>0</td>\n",
       "      <td>Normal</td>\n",
       "      <td>172</td>\n",
       "      <td>N</td>\n",
       "      <td>0.0</td>\n",
       "      <td>Up</td>\n",
       "      <td>0</td>\n",
       "    </tr>\n",
       "    <tr>\n",
       "      <th>1</th>\n",
       "      <td>49</td>\n",
       "      <td>F</td>\n",
       "      <td>NAP</td>\n",
       "      <td>160</td>\n",
       "      <td>180</td>\n",
       "      <td>0</td>\n",
       "      <td>Normal</td>\n",
       "      <td>156</td>\n",
       "      <td>N</td>\n",
       "      <td>1.0</td>\n",
       "      <td>Flat</td>\n",
       "      <td>1</td>\n",
       "    </tr>\n",
       "    <tr>\n",
       "      <th>2</th>\n",
       "      <td>37</td>\n",
       "      <td>M</td>\n",
       "      <td>ATA</td>\n",
       "      <td>130</td>\n",
       "      <td>283</td>\n",
       "      <td>0</td>\n",
       "      <td>ST</td>\n",
       "      <td>98</td>\n",
       "      <td>N</td>\n",
       "      <td>0.0</td>\n",
       "      <td>Up</td>\n",
       "      <td>0</td>\n",
       "    </tr>\n",
       "    <tr>\n",
       "      <th>3</th>\n",
       "      <td>48</td>\n",
       "      <td>F</td>\n",
       "      <td>ASY</td>\n",
       "      <td>138</td>\n",
       "      <td>214</td>\n",
       "      <td>0</td>\n",
       "      <td>Normal</td>\n",
       "      <td>108</td>\n",
       "      <td>Y</td>\n",
       "      <td>1.5</td>\n",
       "      <td>Flat</td>\n",
       "      <td>1</td>\n",
       "    </tr>\n",
       "    <tr>\n",
       "      <th>4</th>\n",
       "      <td>54</td>\n",
       "      <td>M</td>\n",
       "      <td>NAP</td>\n",
       "      <td>150</td>\n",
       "      <td>195</td>\n",
       "      <td>0</td>\n",
       "      <td>Normal</td>\n",
       "      <td>122</td>\n",
       "      <td>N</td>\n",
       "      <td>0.0</td>\n",
       "      <td>Up</td>\n",
       "      <td>0</td>\n",
       "    </tr>\n",
       "  </tbody>\n",
       "</table>\n",
       "</div>"
      ],
      "text/plain": [
       "   Age Sex ChestPainType  RestingBP  Cholesterol  FastingBS RestingECG  MaxHR  \\\n",
       "0   40   M           ATA        140          289          0     Normal    172   \n",
       "1   49   F           NAP        160          180          0     Normal    156   \n",
       "2   37   M           ATA        130          283          0         ST     98   \n",
       "3   48   F           ASY        138          214          0     Normal    108   \n",
       "4   54   M           NAP        150          195          0     Normal    122   \n",
       "\n",
       "  ExerciseAngina  Oldpeak ST_Slope  HeartDisease  \n",
       "0              N      0.0       Up             0  \n",
       "1              N      1.0     Flat             1  \n",
       "2              N      0.0       Up             0  \n",
       "3              Y      1.5     Flat             1  \n",
       "4              N      0.0       Up             0  "
      ]
     },
     "execution_count": 5,
     "metadata": {},
     "output_type": "execute_result"
    }
   ],
   "source": [
    "heart.columns = heart.columns.str.strip()\n",
    "print(heart.columns)\n",
    "heart.head()"
   ]
  },
  {
   "cell_type": "code",
   "execution_count": null,
   "id": "2b1490cd",
   "metadata": {},
   "outputs": [
    {
     "name": "stdout",
     "output_type": "stream",
     "text": [
      "Received target_columns: ['ChestPainType', 'RestingECG'] <class 'list'>\n",
      "     Age  Sex  RestingBP  Cholesterol  FastingBS  MaxHR  ExerciseAngina  \\\n",
      "0     40    0        140          289          0    172               0   \n",
      "1     49    1        160          180          0    156               0   \n",
      "2     37    0        130          283          0     98               0   \n",
      "3     48    1        138          214          0    108               1   \n",
      "4     54    0        150          195          0    122               0   \n",
      "..   ...  ...        ...          ...        ...    ...             ...   \n",
      "913   45    0        110          264          0    132               0   \n",
      "914   68    0        144          193          1    141               0   \n",
      "915   57    0        130          131          0    115               1   \n",
      "916   57    1        130          236          0    174               0   \n",
      "917   38    0        138          175          0    173               0   \n",
      "\n",
      "     Oldpeak  ST_Slope  HeartDisease  ChestPainType_ASY  ChestPainType_ATA  \\\n",
      "0        0.0         2             0                  0                  1   \n",
      "1        1.0         1             1                  0                  0   \n",
      "2        0.0         2             0                  0                  1   \n",
      "3        1.5         1             1                  1                  0   \n",
      "4        0.0         2             0                  0                  0   \n",
      "..       ...       ...           ...                ...                ...   \n",
      "913      1.2         1             1                  0                  0   \n",
      "914      3.4         1             1                  1                  0   \n",
      "915      1.2         1             1                  1                  0   \n",
      "916      0.0         1             1                  0                  1   \n",
      "917      0.0         2             0                  0                  0   \n",
      "\n",
      "     ChestPainType_NAP  ChestPainType_TA  RestingECG_LVH  RestingECG_Normal  \\\n",
      "0                    0                 0               0                  1   \n",
      "1                    1                 0               0                  1   \n",
      "2                    0                 0               0                  0   \n",
      "3                    0                 0               0                  1   \n",
      "4                    1                 0               0                  1   \n",
      "..                 ...               ...             ...                ...   \n",
      "913                  0                 1               0                  1   \n",
      "914                  0                 0               0                  1   \n",
      "915                  0                 0               0                  1   \n",
      "916                  0                 0               1                  0   \n",
      "917                  1                 0               0                  1   \n",
      "\n",
      "     RestingECG_ST  \n",
      "0                0  \n",
      "1                0  \n",
      "2                1  \n",
      "3                0  \n",
      "4                0  \n",
      "..             ...  \n",
      "913              0  \n",
      "914              0  \n",
      "915              0  \n",
      "916              0  \n",
      "917              0  \n",
      "\n",
      "[918 rows x 17 columns]\n"
     ]
    }
   ],
   "source": [
    "heart['Sex'] = heart['Sex'].map({'M': 0, 'F': 1})\n",
    "heart['ExerciseAngina'] = heart['ExerciseAngina'].map({'N': 0, 'Y': 1})\n",
    "heart['ST_Slope'] = heart['ST_Slope'].map({'Up': 2, 'Flat': 1, 'Down': 0})\n",
    "#one-hot encoding\n",
    "heart = one_hot(heart, ['ChestPainType', 'RestingECG'])\n",
    "print(heart)"
   ]
  },
  {
   "cell_type": "code",
   "execution_count": null,
   "id": "3af0b6d5",
   "metadata": {},
   "outputs": [],
   "source": [
    "print(heart['HeartDisease'].value_counts(normalize=True))"
   ]
  },
  {
   "cell_type": "code",
   "execution_count": null,
   "id": "9e50453c",
   "metadata": {},
   "outputs": [],
   "source": [
    "heart.describe()"
   ]
  },
  {
   "cell_type": "code",
   "execution_count": null,
   "id": "30859863",
   "metadata": {},
   "outputs": [
    {
     "name": "stdout",
     "output_type": "stream",
     "text": [
      "HeartDisease         1.000000\n",
      "ST_Slope            -0.558771\n",
      "ChestPainType_ASY    0.516716\n",
      "ExerciseAngina       0.494282\n",
      "Oldpeak              0.403951\n",
      "ChestPainType_ATA   -0.401924\n",
      "MaxHR               -0.400421\n",
      "Sex                 -0.305445\n",
      "Age                  0.282039\n",
      "FastingBS            0.267291\n",
      "Cholesterol         -0.232741\n",
      "ChestPainType_NAP   -0.212964\n",
      "RestingBP            0.107589\n",
      "RestingECG_ST        0.102527\n",
      "RestingECG_Normal   -0.091580\n",
      "ChestPainType_TA    -0.054790\n",
      "RestingECG_LVH       0.010670\n",
      "Name: HeartDisease, dtype: float64\n"
     ]
    }
   ],
   "source": [
    "print(heart.corr()['HeartDisease'].sort_values(key = lambda x: x.abs(), ascending = False))"
   ]
  },
  {
   "cell_type": "code",
   "execution_count": null,
   "id": "ef83d976",
   "metadata": {},
   "outputs": [
    {
     "name": "stdout",
     "output_type": "stream",
     "text": [
      "ST_Slope             0.194595\n",
      "Oldpeak              0.110429\n",
      "Cholesterol          0.109423\n",
      "MaxHR                0.098624\n",
      "Age                  0.089103\n",
      "ExerciseAngina       0.087146\n",
      "ChestPainType_ASY    0.078714\n",
      "RestingBP            0.074444\n",
      "Sex                  0.038338\n",
      "ChestPainType_ATA    0.032121\n",
      "FastingBS            0.024747\n",
      "ChestPainType_NAP    0.016190\n",
      "RestingECG_LVH       0.014419\n",
      "RestingECG_Normal    0.013199\n",
      "RestingECG_ST        0.009777\n",
      "ChestPainType_TA     0.008730\n",
      "dtype: float64\n",
      "0.9347826086956522\n",
      "CV Accuracy: 0.8202007602756 (+/- 0.03855306817800949)\n",
      "\n",
      "[[0.11 0.89]\n",
      " [0.09 0.91]\n",
      " [0.07 0.93]\n",
      " [0.3  0.7 ]\n",
      " [0.99 0.01]\n",
      " [0.04 0.96]\n",
      " [0.06 0.94]\n",
      " [0.14 0.86]\n",
      " [0.99 0.01]\n",
      " [0.67 0.33]]\n",
      "ST_Slope             0.245337\n",
      "MaxHR                0.155497\n",
      "Cholesterol          0.141583\n",
      "Age                  0.128798\n",
      "ChestPainType_ASY    0.118788\n",
      "RestingBP            0.104728\n",
      "Sex                  0.043650\n",
      "ChestPainType_ATA    0.036790\n",
      "ChestPainType_NAP    0.017827\n",
      "ChestPainType_TA     0.007001\n",
      "dtype: float64\n",
      "0.9130434782608695\n",
      "CV Accuracy: 0.8049417913993823 (+/- 0.035446718228042254)\n",
      "\n",
      "[[0.13 0.87]\n",
      " [0.17 0.83]\n",
      " [0.08 0.92]\n",
      " [0.18 0.82]\n",
      " [0.97 0.03]\n",
      " [0.   1.  ]\n",
      " [0.01 0.99]\n",
      " [0.19 0.81]\n",
      " [0.96 0.04]\n",
      " [0.66 0.34]]\n"
     ]
    }
   ],
   "source": [
    "test_forest = run_forest(heart, 'HeartDisease')\n",
    "heart_cleaned = heart[['ST_Slope', 'Cholesterol', 'MaxHR', 'Age', 'RestingBP', 'Sex', 'ChestPainType_ASY', 'ChestPainType_NAP', 'ChestPainType_TA',  'ChestPainType_ATA', 'HeartDisease']]\n",
    "heart_forest = run_forest(heart_cleaned, 'HeartDisease')"
   ]
  }
 ],
 "metadata": {
  "kernelspec": {
   "display_name": "new_env",
   "language": "python",
   "name": "python3"
  },
  "language_info": {
   "codemirror_mode": {
    "name": "ipython",
    "version": 3
   },
   "file_extension": ".py",
   "mimetype": "text/x-python",
   "name": "python",
   "nbconvert_exporter": "python",
   "pygments_lexer": "ipython3",
   "version": "3.9.23"
  }
 },
 "nbformat": 4,
 "nbformat_minor": 5
}
